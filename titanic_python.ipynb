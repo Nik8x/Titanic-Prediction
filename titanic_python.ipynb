{
  "cells": [
    {
      "metadata": {},
      "cell_type": "markdown",
      "source": "import all packages here"
    },
    {
      "metadata": {
        "trusted": false
      },
      "cell_type": "code",
      "source": "import numpy as np\nimport pandas as pd\nimport matplotlib.pyplot as plt\n%matplotlib inline",
      "execution_count": 1,
      "outputs": []
    },
    {
      "metadata": {},
      "cell_type": "markdown",
      "source": "load the titanic3.csv"
    },
    {
      "metadata": {
        "trusted": false
      },
      "cell_type": "code",
      "source": "tic = pd.read_csv('titanic3.csv')\n\ntic.head(5)",
      "execution_count": 2,
      "outputs": [
        {
          "data": {
            "text/html": "<div>\n<style scoped>\n    .dataframe tbody tr th:only-of-type {\n        vertical-align: middle;\n    }\n\n    .dataframe tbody tr th {\n        vertical-align: top;\n    }\n\n    .dataframe thead th {\n        text-align: right;\n    }\n</style>\n<table border=\"1\" class=\"dataframe\">\n  <thead>\n    <tr style=\"text-align: right;\">\n      <th></th>\n      <th>pclass</th>\n      <th>survived</th>\n      <th>name</th>\n      <th>sex</th>\n      <th>age</th>\n      <th>sibsp</th>\n      <th>parch</th>\n      <th>ticket</th>\n      <th>fare</th>\n      <th>cabin</th>\n      <th>embarked</th>\n      <th>boat</th>\n      <th>body</th>\n      <th>home.dest</th>\n    </tr>\n  </thead>\n  <tbody>\n    <tr>\n      <th>0</th>\n      <td>1.0</td>\n      <td>1.0</td>\n      <td>Allen, Miss. Elisabeth Walton</td>\n      <td>female</td>\n      <td>29.0000</td>\n      <td>0.0</td>\n      <td>0.0</td>\n      <td>24160</td>\n      <td>211.3375</td>\n      <td>B5</td>\n      <td>S</td>\n      <td>2</td>\n      <td>NaN</td>\n      <td>St Louis, MO</td>\n    </tr>\n    <tr>\n      <th>1</th>\n      <td>1.0</td>\n      <td>1.0</td>\n      <td>Allison, Master. Hudson Trevor</td>\n      <td>male</td>\n      <td>0.9167</td>\n      <td>1.0</td>\n      <td>2.0</td>\n      <td>113781</td>\n      <td>151.5500</td>\n      <td>C22 C26</td>\n      <td>S</td>\n      <td>11</td>\n      <td>NaN</td>\n      <td>Montreal, PQ / Chesterville, ON</td>\n    </tr>\n    <tr>\n      <th>2</th>\n      <td>1.0</td>\n      <td>0.0</td>\n      <td>Allison, Miss. Helen Loraine</td>\n      <td>female</td>\n      <td>2.0000</td>\n      <td>1.0</td>\n      <td>2.0</td>\n      <td>113781</td>\n      <td>151.5500</td>\n      <td>C22 C26</td>\n      <td>S</td>\n      <td>NaN</td>\n      <td>NaN</td>\n      <td>Montreal, PQ / Chesterville, ON</td>\n    </tr>\n    <tr>\n      <th>3</th>\n      <td>1.0</td>\n      <td>0.0</td>\n      <td>Allison, Mr. Hudson Joshua Creighton</td>\n      <td>male</td>\n      <td>30.0000</td>\n      <td>1.0</td>\n      <td>2.0</td>\n      <td>113781</td>\n      <td>151.5500</td>\n      <td>C22 C26</td>\n      <td>S</td>\n      <td>NaN</td>\n      <td>135.0</td>\n      <td>Montreal, PQ / Chesterville, ON</td>\n    </tr>\n    <tr>\n      <th>4</th>\n      <td>1.0</td>\n      <td>0.0</td>\n      <td>Allison, Mrs. Hudson J C (Bessie Waldo Daniels)</td>\n      <td>female</td>\n      <td>25.0000</td>\n      <td>1.0</td>\n      <td>2.0</td>\n      <td>113781</td>\n      <td>151.5500</td>\n      <td>C22 C26</td>\n      <td>S</td>\n      <td>NaN</td>\n      <td>NaN</td>\n      <td>Montreal, PQ / Chesterville, ON</td>\n    </tr>\n  </tbody>\n</table>\n</div>",
            "text/plain": "   pclass  survived                                             name     sex  \\\n0     1.0       1.0                    Allen, Miss. Elisabeth Walton  female   \n1     1.0       1.0                   Allison, Master. Hudson Trevor    male   \n2     1.0       0.0                     Allison, Miss. Helen Loraine  female   \n3     1.0       0.0             Allison, Mr. Hudson Joshua Creighton    male   \n4     1.0       0.0  Allison, Mrs. Hudson J C (Bessie Waldo Daniels)  female   \n\n       age  sibsp  parch  ticket      fare    cabin embarked boat   body  \\\n0  29.0000    0.0    0.0   24160  211.3375       B5        S    2    NaN   \n1   0.9167    1.0    2.0  113781  151.5500  C22 C26        S   11    NaN   \n2   2.0000    1.0    2.0  113781  151.5500  C22 C26        S  NaN    NaN   \n3  30.0000    1.0    2.0  113781  151.5500  C22 C26        S  NaN  135.0   \n4  25.0000    1.0    2.0  113781  151.5500  C22 C26        S  NaN    NaN   \n\n                         home.dest  \n0                     St Louis, MO  \n1  Montreal, PQ / Chesterville, ON  \n2  Montreal, PQ / Chesterville, ON  \n3  Montreal, PQ / Chesterville, ON  \n4  Montreal, PQ / Chesterville, ON  "
          },
          "execution_count": 2,
          "metadata": {},
          "output_type": "execute_result"
        }
      ]
    },
    {
      "metadata": {},
      "cell_type": "markdown",
      "source": "look at the info"
    },
    {
      "metadata": {
        "trusted": false
      },
      "cell_type": "code",
      "source": "tic.info()",
      "execution_count": 3,
      "outputs": [
        {
          "name": "stdout",
          "output_type": "stream",
          "text": "<class 'pandas.core.frame.DataFrame'>\nRangeIndex: 1310 entries, 0 to 1309\nData columns (total 14 columns):\npclass       1309 non-null float64\nsurvived     1309 non-null float64\nname         1309 non-null object\nsex          1309 non-null object\nage          1046 non-null float64\nsibsp        1309 non-null float64\nparch        1309 non-null float64\nticket       1309 non-null object\nfare         1308 non-null float64\ncabin        295 non-null object\nembarked     1307 non-null object\nboat         486 non-null object\nbody         121 non-null float64\nhome.dest    745 non-null object\ndtypes: float64(7), object(7)\nmemory usage: 143.4+ KB\n"
        }
      ]
    },
    {
      "metadata": {},
      "cell_type": "markdown",
      "source": "convert data types of required columns"
    },
    {
      "metadata": {
        "trusted": false
      },
      "cell_type": "code",
      "source": "tic.survived = tic.survived.astype('category')\ntic.sex = tic.sex.astype('category')\ntic.pclass = tic.pclass.astype('category')\ntic.embarked = tic.embarked.astype('category')",
      "execution_count": 4,
      "outputs": []
    },
    {
      "metadata": {},
      "cell_type": "markdown",
      "source": "look for missing values"
    },
    {
      "metadata": {
        "trusted": false
      },
      "cell_type": "code",
      "source": "tic.isnull().sum()",
      "execution_count": 5,
      "outputs": [
        {
          "data": {
            "text/plain": "pclass          1\nsurvived        1\nname            1\nsex             1\nage           264\nsibsp           1\nparch           1\nticket          1\nfare            2\ncabin        1015\nembarked        3\nboat          824\nbody         1189\nhome.dest     565\ndtype: int64"
          },
          "execution_count": 5,
          "metadata": {},
          "output_type": "execute_result"
        }
      ]
    },
    {
      "metadata": {},
      "cell_type": "markdown",
      "source": "drop columns not relevant "
    },
    {
      "metadata": {
        "trusted": false
      },
      "cell_type": "code",
      "source": "tic.drop(['home.dest', 'body', 'boat', 'cabin'], axis = 1, inplace = True)\n\ntic.head(4)",
      "execution_count": 6,
      "outputs": [
        {
          "data": {
            "text/html": "<div>\n<style scoped>\n    .dataframe tbody tr th:only-of-type {\n        vertical-align: middle;\n    }\n\n    .dataframe tbody tr th {\n        vertical-align: top;\n    }\n\n    .dataframe thead th {\n        text-align: right;\n    }\n</style>\n<table border=\"1\" class=\"dataframe\">\n  <thead>\n    <tr style=\"text-align: right;\">\n      <th></th>\n      <th>pclass</th>\n      <th>survived</th>\n      <th>name</th>\n      <th>sex</th>\n      <th>age</th>\n      <th>sibsp</th>\n      <th>parch</th>\n      <th>ticket</th>\n      <th>fare</th>\n      <th>embarked</th>\n    </tr>\n  </thead>\n  <tbody>\n    <tr>\n      <th>0</th>\n      <td>1.0</td>\n      <td>1.0</td>\n      <td>Allen, Miss. Elisabeth Walton</td>\n      <td>female</td>\n      <td>29.0000</td>\n      <td>0.0</td>\n      <td>0.0</td>\n      <td>24160</td>\n      <td>211.3375</td>\n      <td>S</td>\n    </tr>\n    <tr>\n      <th>1</th>\n      <td>1.0</td>\n      <td>1.0</td>\n      <td>Allison, Master. Hudson Trevor</td>\n      <td>male</td>\n      <td>0.9167</td>\n      <td>1.0</td>\n      <td>2.0</td>\n      <td>113781</td>\n      <td>151.5500</td>\n      <td>S</td>\n    </tr>\n    <tr>\n      <th>2</th>\n      <td>1.0</td>\n      <td>0.0</td>\n      <td>Allison, Miss. Helen Loraine</td>\n      <td>female</td>\n      <td>2.0000</td>\n      <td>1.0</td>\n      <td>2.0</td>\n      <td>113781</td>\n      <td>151.5500</td>\n      <td>S</td>\n    </tr>\n    <tr>\n      <th>3</th>\n      <td>1.0</td>\n      <td>0.0</td>\n      <td>Allison, Mr. Hudson Joshua Creighton</td>\n      <td>male</td>\n      <td>30.0000</td>\n      <td>1.0</td>\n      <td>2.0</td>\n      <td>113781</td>\n      <td>151.5500</td>\n      <td>S</td>\n    </tr>\n  </tbody>\n</table>\n</div>",
            "text/plain": "  pclass survived                                  name     sex      age  \\\n0    1.0      1.0         Allen, Miss. Elisabeth Walton  female  29.0000   \n1    1.0      1.0        Allison, Master. Hudson Trevor    male   0.9167   \n2    1.0      0.0          Allison, Miss. Helen Loraine  female   2.0000   \n3    1.0      0.0  Allison, Mr. Hudson Joshua Creighton    male  30.0000   \n\n   sibsp  parch  ticket      fare embarked  \n0    0.0    0.0   24160  211.3375        S  \n1    1.0    2.0  113781  151.5500        S  \n2    1.0    2.0  113781  151.5500        S  \n3    1.0    2.0  113781  151.5500        S  "
          },
          "execution_count": 6,
          "metadata": {},
          "output_type": "execute_result"
        }
      ]
    },
    {
      "metadata": {},
      "cell_type": "markdown",
      "source": "look for missing values and replace them"
    },
    {
      "metadata": {},
      "cell_type": "markdown",
      "source": "drop missing in pclass"
    },
    {
      "metadata": {
        "trusted": false
      },
      "cell_type": "code",
      "source": "tic.pclass.value_counts(dropna = False)",
      "execution_count": 7,
      "outputs": [
        {
          "data": {
            "text/plain": " 3.0    709\n 1.0    323\n 2.0    277\nNaN       1\nName: pclass, dtype: int64"
          },
          "execution_count": 7,
          "metadata": {},
          "output_type": "execute_result"
        }
      ]
    },
    {
      "metadata": {
        "trusted": false
      },
      "cell_type": "code",
      "source": "tic[tic['pclass'].isnull()]",
      "execution_count": 8,
      "outputs": [
        {
          "data": {
            "text/html": "<div>\n<style scoped>\n    .dataframe tbody tr th:only-of-type {\n        vertical-align: middle;\n    }\n\n    .dataframe tbody tr th {\n        vertical-align: top;\n    }\n\n    .dataframe thead th {\n        text-align: right;\n    }\n</style>\n<table border=\"1\" class=\"dataframe\">\n  <thead>\n    <tr style=\"text-align: right;\">\n      <th></th>\n      <th>pclass</th>\n      <th>survived</th>\n      <th>name</th>\n      <th>sex</th>\n      <th>age</th>\n      <th>sibsp</th>\n      <th>parch</th>\n      <th>ticket</th>\n      <th>fare</th>\n      <th>embarked</th>\n    </tr>\n  </thead>\n  <tbody>\n    <tr>\n      <th>1309</th>\n      <td>NaN</td>\n      <td>NaN</td>\n      <td>NaN</td>\n      <td>NaN</td>\n      <td>NaN</td>\n      <td>NaN</td>\n      <td>NaN</td>\n      <td>NaN</td>\n      <td>NaN</td>\n      <td>NaN</td>\n    </tr>\n  </tbody>\n</table>\n</div>",
            "text/plain": "     pclass survived name  sex  age  sibsp  parch ticket  fare embarked\n1309    NaN      NaN  NaN  NaN  NaN    NaN    NaN    NaN   NaN      NaN"
          },
          "execution_count": 8,
          "metadata": {},
          "output_type": "execute_result"
        }
      ]
    },
    {
      "metadata": {
        "trusted": false
      },
      "cell_type": "code",
      "source": "tic[1309:]",
      "execution_count": 9,
      "outputs": [
        {
          "data": {
            "text/html": "<div>\n<style scoped>\n    .dataframe tbody tr th:only-of-type {\n        vertical-align: middle;\n    }\n\n    .dataframe tbody tr th {\n        vertical-align: top;\n    }\n\n    .dataframe thead th {\n        text-align: right;\n    }\n</style>\n<table border=\"1\" class=\"dataframe\">\n  <thead>\n    <tr style=\"text-align: right;\">\n      <th></th>\n      <th>pclass</th>\n      <th>survived</th>\n      <th>name</th>\n      <th>sex</th>\n      <th>age</th>\n      <th>sibsp</th>\n      <th>parch</th>\n      <th>ticket</th>\n      <th>fare</th>\n      <th>embarked</th>\n    </tr>\n  </thead>\n  <tbody>\n    <tr>\n      <th>1309</th>\n      <td>NaN</td>\n      <td>NaN</td>\n      <td>NaN</td>\n      <td>NaN</td>\n      <td>NaN</td>\n      <td>NaN</td>\n      <td>NaN</td>\n      <td>NaN</td>\n      <td>NaN</td>\n      <td>NaN</td>\n    </tr>\n  </tbody>\n</table>\n</div>",
            "text/plain": "     pclass survived name  sex  age  sibsp  parch ticket  fare embarked\n1309    NaN      NaN  NaN  NaN  NaN    NaN    NaN    NaN   NaN      NaN"
          },
          "execution_count": 9,
          "metadata": {},
          "output_type": "execute_result"
        }
      ]
    },
    {
      "metadata": {
        "trusted": false
      },
      "cell_type": "code",
      "source": "tic.drop(tic.index[1309:], inplace = True)\ntic.tail(4)",
      "execution_count": 10,
      "outputs": [
        {
          "data": {
            "text/html": "<div>\n<style scoped>\n    .dataframe tbody tr th:only-of-type {\n        vertical-align: middle;\n    }\n\n    .dataframe tbody tr th {\n        vertical-align: top;\n    }\n\n    .dataframe thead th {\n        text-align: right;\n    }\n</style>\n<table border=\"1\" class=\"dataframe\">\n  <thead>\n    <tr style=\"text-align: right;\">\n      <th></th>\n      <th>pclass</th>\n      <th>survived</th>\n      <th>name</th>\n      <th>sex</th>\n      <th>age</th>\n      <th>sibsp</th>\n      <th>parch</th>\n      <th>ticket</th>\n      <th>fare</th>\n      <th>embarked</th>\n    </tr>\n  </thead>\n  <tbody>\n    <tr>\n      <th>1305</th>\n      <td>3.0</td>\n      <td>0.0</td>\n      <td>Zabour, Miss. Thamine</td>\n      <td>female</td>\n      <td>NaN</td>\n      <td>1.0</td>\n      <td>0.0</td>\n      <td>2665</td>\n      <td>14.4542</td>\n      <td>C</td>\n    </tr>\n    <tr>\n      <th>1306</th>\n      <td>3.0</td>\n      <td>0.0</td>\n      <td>Zakarian, Mr. Mapriededer</td>\n      <td>male</td>\n      <td>26.5</td>\n      <td>0.0</td>\n      <td>0.0</td>\n      <td>2656</td>\n      <td>7.2250</td>\n      <td>C</td>\n    </tr>\n    <tr>\n      <th>1307</th>\n      <td>3.0</td>\n      <td>0.0</td>\n      <td>Zakarian, Mr. Ortin</td>\n      <td>male</td>\n      <td>27.0</td>\n      <td>0.0</td>\n      <td>0.0</td>\n      <td>2670</td>\n      <td>7.2250</td>\n      <td>C</td>\n    </tr>\n    <tr>\n      <th>1308</th>\n      <td>3.0</td>\n      <td>0.0</td>\n      <td>Zimmerman, Mr. Leo</td>\n      <td>male</td>\n      <td>29.0</td>\n      <td>0.0</td>\n      <td>0.0</td>\n      <td>315082</td>\n      <td>7.8750</td>\n      <td>S</td>\n    </tr>\n  </tbody>\n</table>\n</div>",
            "text/plain": "     pclass survived                       name     sex   age  sibsp  parch  \\\n1305    3.0      0.0      Zabour, Miss. Thamine  female   NaN    1.0    0.0   \n1306    3.0      0.0  Zakarian, Mr. Mapriededer    male  26.5    0.0    0.0   \n1307    3.0      0.0        Zakarian, Mr. Ortin    male  27.0    0.0    0.0   \n1308    3.0      0.0         Zimmerman, Mr. Leo    male  29.0    0.0    0.0   \n\n      ticket     fare embarked  \n1305    2665  14.4542        C  \n1306    2656   7.2250        C  \n1307    2670   7.2250        C  \n1308  315082   7.8750        S  "
          },
          "execution_count": 10,
          "metadata": {},
          "output_type": "execute_result"
        }
      ]
    },
    {
      "metadata": {},
      "cell_type": "markdown",
      "source": "replace missing in age and fare"
    },
    {
      "metadata": {
        "trusted": false
      },
      "cell_type": "code",
      "source": "# age has too many missing values, replace with mean\nprint(tic.age.mean())\n\ntic.age = tic.age.fillna(tic.age.mean())",
      "execution_count": 11,
      "outputs": [
        {
          "name": "stdout",
          "output_type": "stream",
          "text": "29.8811345124283\n"
        }
      ]
    },
    {
      "metadata": {
        "trusted": false
      },
      "cell_type": "code",
      "source": "# same for fare\ntic.fare = tic.fare.fillna(tic.fare.mean())",
      "execution_count": 12,
      "outputs": []
    },
    {
      "metadata": {},
      "cell_type": "markdown",
      "source": "Replace missing values in embarked with most popular"
    },
    {
      "metadata": {
        "trusted": false
      },
      "cell_type": "code",
      "source": "tic.embarked.value_counts(dropna = False)",
      "execution_count": 13,
      "outputs": [
        {
          "data": {
            "text/plain": "S      914\nC      270\nQ      123\nNaN      2\nName: embarked, dtype: int64"
          },
          "execution_count": 13,
          "metadata": {},
          "output_type": "execute_result"
        }
      ]
    },
    {
      "metadata": {
        "trusted": false
      },
      "cell_type": "code",
      "source": "tic.embarked = tic.embarked.fillna('S')",
      "execution_count": 14,
      "outputs": []
    },
    {
      "metadata": {
        "trusted": false
      },
      "cell_type": "code",
      "source": "tic.isnull().sum()",
      "execution_count": 15,
      "outputs": [
        {
          "data": {
            "text/plain": "pclass      0\nsurvived    0\nname        0\nsex         0\nage         0\nsibsp       0\nparch       0\nticket      0\nfare        0\nembarked    0\ndtype: int64"
          },
          "execution_count": 15,
          "metadata": {},
          "output_type": "execute_result"
        }
      ]
    },
    {
      "metadata": {},
      "cell_type": "markdown",
      "source": "Extract the titles from name and store in title column"
    },
    {
      "metadata": {
        "trusted": false
      },
      "cell_type": "code",
      "source": "tic['title'] = tic.name.str.extract('([A-Za-z]+)\\.', expand = False)",
      "execution_count": 16,
      "outputs": []
    },
    {
      "metadata": {
        "trusted": false
      },
      "cell_type": "code",
      "source": "tic.head()",
      "execution_count": 17,
      "outputs": [
        {
          "data": {
            "text/html": "<div>\n<style scoped>\n    .dataframe tbody tr th:only-of-type {\n        vertical-align: middle;\n    }\n\n    .dataframe tbody tr th {\n        vertical-align: top;\n    }\n\n    .dataframe thead th {\n        text-align: right;\n    }\n</style>\n<table border=\"1\" class=\"dataframe\">\n  <thead>\n    <tr style=\"text-align: right;\">\n      <th></th>\n      <th>pclass</th>\n      <th>survived</th>\n      <th>name</th>\n      <th>sex</th>\n      <th>age</th>\n      <th>sibsp</th>\n      <th>parch</th>\n      <th>ticket</th>\n      <th>fare</th>\n      <th>embarked</th>\n      <th>title</th>\n    </tr>\n  </thead>\n  <tbody>\n    <tr>\n      <th>0</th>\n      <td>1.0</td>\n      <td>1.0</td>\n      <td>Allen, Miss. Elisabeth Walton</td>\n      <td>female</td>\n      <td>29.0000</td>\n      <td>0.0</td>\n      <td>0.0</td>\n      <td>24160</td>\n      <td>211.3375</td>\n      <td>S</td>\n      <td>Miss</td>\n    </tr>\n    <tr>\n      <th>1</th>\n      <td>1.0</td>\n      <td>1.0</td>\n      <td>Allison, Master. Hudson Trevor</td>\n      <td>male</td>\n      <td>0.9167</td>\n      <td>1.0</td>\n      <td>2.0</td>\n      <td>113781</td>\n      <td>151.5500</td>\n      <td>S</td>\n      <td>Master</td>\n    </tr>\n    <tr>\n      <th>2</th>\n      <td>1.0</td>\n      <td>0.0</td>\n      <td>Allison, Miss. Helen Loraine</td>\n      <td>female</td>\n      <td>2.0000</td>\n      <td>1.0</td>\n      <td>2.0</td>\n      <td>113781</td>\n      <td>151.5500</td>\n      <td>S</td>\n      <td>Miss</td>\n    </tr>\n    <tr>\n      <th>3</th>\n      <td>1.0</td>\n      <td>0.0</td>\n      <td>Allison, Mr. Hudson Joshua Creighton</td>\n      <td>male</td>\n      <td>30.0000</td>\n      <td>1.0</td>\n      <td>2.0</td>\n      <td>113781</td>\n      <td>151.5500</td>\n      <td>S</td>\n      <td>Mr</td>\n    </tr>\n    <tr>\n      <th>4</th>\n      <td>1.0</td>\n      <td>0.0</td>\n      <td>Allison, Mrs. Hudson J C (Bessie Waldo Daniels)</td>\n      <td>female</td>\n      <td>25.0000</td>\n      <td>1.0</td>\n      <td>2.0</td>\n      <td>113781</td>\n      <td>151.5500</td>\n      <td>S</td>\n      <td>Mrs</td>\n    </tr>\n  </tbody>\n</table>\n</div>",
            "text/plain": "  pclass survived                                             name     sex  \\\n0    1.0      1.0                    Allen, Miss. Elisabeth Walton  female   \n1    1.0      1.0                   Allison, Master. Hudson Trevor    male   \n2    1.0      0.0                     Allison, Miss. Helen Loraine  female   \n3    1.0      0.0             Allison, Mr. Hudson Joshua Creighton    male   \n4    1.0      0.0  Allison, Mrs. Hudson J C (Bessie Waldo Daniels)  female   \n\n       age  sibsp  parch  ticket      fare embarked   title  \n0  29.0000    0.0    0.0   24160  211.3375        S    Miss  \n1   0.9167    1.0    2.0  113781  151.5500        S  Master  \n2   2.0000    1.0    2.0  113781  151.5500        S    Miss  \n3  30.0000    1.0    2.0  113781  151.5500        S      Mr  \n4  25.0000    1.0    2.0  113781  151.5500        S     Mrs  "
          },
          "execution_count": 17,
          "metadata": {},
          "output_type": "execute_result"
        }
      ]
    },
    {
      "metadata": {
        "trusted": false
      },
      "cell_type": "code",
      "source": "pd.crosstab(tic.title, tic.sex)#, rownames = ['x'], colnames = ['y'])",
      "execution_count": 18,
      "outputs": [
        {
          "data": {
            "text/html": "<div>\n<style scoped>\n    .dataframe tbody tr th:only-of-type {\n        vertical-align: middle;\n    }\n\n    .dataframe tbody tr th {\n        vertical-align: top;\n    }\n\n    .dataframe thead th {\n        text-align: right;\n    }\n</style>\n<table border=\"1\" class=\"dataframe\">\n  <thead>\n    <tr style=\"text-align: right;\">\n      <th>sex</th>\n      <th>female</th>\n      <th>male</th>\n    </tr>\n    <tr>\n      <th>title</th>\n      <th></th>\n      <th></th>\n    </tr>\n  </thead>\n  <tbody>\n    <tr>\n      <th>Capt</th>\n      <td>0</td>\n      <td>1</td>\n    </tr>\n    <tr>\n      <th>Col</th>\n      <td>0</td>\n      <td>4</td>\n    </tr>\n    <tr>\n      <th>Countess</th>\n      <td>1</td>\n      <td>0</td>\n    </tr>\n    <tr>\n      <th>Don</th>\n      <td>0</td>\n      <td>1</td>\n    </tr>\n    <tr>\n      <th>Dona</th>\n      <td>1</td>\n      <td>0</td>\n    </tr>\n    <tr>\n      <th>Dr</th>\n      <td>1</td>\n      <td>7</td>\n    </tr>\n    <tr>\n      <th>Jonkheer</th>\n      <td>0</td>\n      <td>1</td>\n    </tr>\n    <tr>\n      <th>Lady</th>\n      <td>1</td>\n      <td>0</td>\n    </tr>\n    <tr>\n      <th>Major</th>\n      <td>0</td>\n      <td>2</td>\n    </tr>\n    <tr>\n      <th>Master</th>\n      <td>0</td>\n      <td>61</td>\n    </tr>\n    <tr>\n      <th>Miss</th>\n      <td>260</td>\n      <td>0</td>\n    </tr>\n    <tr>\n      <th>Mlle</th>\n      <td>2</td>\n      <td>0</td>\n    </tr>\n    <tr>\n      <th>Mme</th>\n      <td>1</td>\n      <td>0</td>\n    </tr>\n    <tr>\n      <th>Mr</th>\n      <td>0</td>\n      <td>757</td>\n    </tr>\n    <tr>\n      <th>Mrs</th>\n      <td>197</td>\n      <td>0</td>\n    </tr>\n    <tr>\n      <th>Ms</th>\n      <td>2</td>\n      <td>0</td>\n    </tr>\n    <tr>\n      <th>Rev</th>\n      <td>0</td>\n      <td>8</td>\n    </tr>\n    <tr>\n      <th>Sir</th>\n      <td>0</td>\n      <td>1</td>\n    </tr>\n  </tbody>\n</table>\n</div>",
            "text/plain": "sex       female  male\ntitle                 \nCapt           0     1\nCol            0     4\nCountess       1     0\nDon            0     1\nDona           1     0\nDr             1     7\nJonkheer       0     1\nLady           1     0\nMajor          0     2\nMaster         0    61\nMiss         260     0\nMlle           2     0\nMme            1     0\nMr             0   757\nMrs          197     0\nMs             2     0\nRev            0     8\nSir            0     1"
          },
          "execution_count": 18,
          "metadata": {},
          "output_type": "execute_result"
        }
      ]
    },
    {
      "metadata": {},
      "cell_type": "markdown",
      "source": "Look for the female doctor"
    },
    {
      "metadata": {
        "trusted": false
      },
      "cell_type": "code",
      "source": "#tic[tic['title'] == 'Dr' & tic['sex'] == 'female']\n\ntic[np.logical_and(tic.title == 'Dr', tic.sex == 'female')]",
      "execution_count": 19,
      "outputs": [
        {
          "data": {
            "text/html": "<div>\n<style scoped>\n    .dataframe tbody tr th:only-of-type {\n        vertical-align: middle;\n    }\n\n    .dataframe tbody tr th {\n        vertical-align: top;\n    }\n\n    .dataframe thead th {\n        text-align: right;\n    }\n</style>\n<table border=\"1\" class=\"dataframe\">\n  <thead>\n    <tr style=\"text-align: right;\">\n      <th></th>\n      <th>pclass</th>\n      <th>survived</th>\n      <th>name</th>\n      <th>sex</th>\n      <th>age</th>\n      <th>sibsp</th>\n      <th>parch</th>\n      <th>ticket</th>\n      <th>fare</th>\n      <th>embarked</th>\n      <th>title</th>\n    </tr>\n  </thead>\n  <tbody>\n    <tr>\n      <th>181</th>\n      <td>1.0</td>\n      <td>1.0</td>\n      <td>Leader, Dr. Alice (Farnham)</td>\n      <td>female</td>\n      <td>49.0</td>\n      <td>0.0</td>\n      <td>0.0</td>\n      <td>17465</td>\n      <td>25.9292</td>\n      <td>S</td>\n      <td>Dr</td>\n    </tr>\n  </tbody>\n</table>\n</div>",
            "text/plain": "    pclass survived                         name     sex   age  sibsp  parch  \\\n181    1.0      1.0  Leader, Dr. Alice (Farnham)  female  49.0    0.0    0.0   \n\n    ticket     fare embarked title  \n181  17465  25.9292        S    Dr  "
          },
          "execution_count": 19,
          "metadata": {},
          "output_type": "execute_result"
        }
      ]
    },
    {
      "metadata": {},
      "cell_type": "markdown",
      "source": "Create “gender_name” variable"
    },
    {
      "metadata": {
        "trusted": false
      },
      "cell_type": "code",
      "source": "tic['gender_name'] = tic['title'].replace(['Capt', 'Col', 'Don', 'Dr',\n        'Jonkheer', 'Major', 'Mr', 'Rev', 'Sir'], 'Mr', regex = True)\n\ntic['gender_name'] = tic['gender_name'].replace(['Dona', 'Lady', 'Mme', 'Mrs', 'Countess'], 'Mrs', regex = True)\n\ntic['gender_name'] = tic['gender_name'].replace(['Miss', 'Mlle', 'Ms'], 'Miss', regex = True)\n\ntic['gender_name'] = tic['gender_name'].replace('Master', 'Mast', regex = True)",
      "execution_count": 47,
      "outputs": []
    },
    {
      "metadata": {
        "trusted": false
      },
      "cell_type": "code",
      "source": "#def replace_all(text, dic):\n #   for i, j in dic.iteritems():\n   #     text = text.replace(i, j)\n  #  return text",
      "execution_count": 46,
      "outputs": []
    },
    {
      "metadata": {},
      "cell_type": "markdown",
      "source": "Change female doctor to Mrs"
    },
    {
      "metadata": {
        "trusted": false
      },
      "cell_type": "code",
      "source": "tic.gender_name[181] = 'Mrs'",
      "execution_count": 53,
      "outputs": [
        {
          "name": "stderr",
          "output_type": "stream",
          "text": "C:\\ProgramData\\Anaconda3\\lib\\site-packages\\ipykernel_launcher.py:1: SettingWithCopyWarning: \nA value is trying to be set on a copy of a slice from a DataFrame\n\nSee the caveats in the documentation: http://pandas.pydata.org/pandas-docs/stable/indexing.html#indexing-view-versus-copy\n  \"\"\"Entry point for launching an IPython kernel.\n"
        }
      ]
    },
    {
      "metadata": {
        "trusted": false
      },
      "cell_type": "code",
      "source": "pd.crosstab(tic.sex, tic.gender_name)",
      "execution_count": 55,
      "outputs": [
        {
          "data": {
            "text/html": "<div>\n<style scoped>\n    .dataframe tbody tr th:only-of-type {\n        vertical-align: middle;\n    }\n\n    .dataframe tbody tr th {\n        vertical-align: top;\n    }\n\n    .dataframe thead th {\n        text-align: right;\n    }\n</style>\n<table border=\"1\" class=\"dataframe\">\n  <thead>\n    <tr style=\"text-align: right;\">\n      <th>gender_name</th>\n      <th>Mast</th>\n      <th>Miss</th>\n      <th>Mr</th>\n      <th>Mrs</th>\n    </tr>\n    <tr>\n      <th>sex</th>\n      <th></th>\n      <th></th>\n      <th></th>\n      <th></th>\n    </tr>\n  </thead>\n  <tbody>\n    <tr>\n      <th>female</th>\n      <td>0</td>\n      <td>264</td>\n      <td>0</td>\n      <td>202</td>\n    </tr>\n    <tr>\n      <th>male</th>\n      <td>61</td>\n      <td>0</td>\n      <td>782</td>\n      <td>0</td>\n    </tr>\n  </tbody>\n</table>\n</div>",
            "text/plain": "gender_name  Mast  Miss   Mr  Mrs\nsex                              \nfemale          0   264    0  202\nmale           61     0  782    0"
          },
          "execution_count": 55,
          "metadata": {},
          "output_type": "execute_result"
        }
      ]
    },
    {
      "metadata": {},
      "cell_type": "markdown",
      "source": "Convert gender name to factor"
    },
    {
      "metadata": {
        "trusted": false
      },
      "cell_type": "code",
      "source": "tic.gender_name = tic.gender_name.astype('category')",
      "execution_count": 56,
      "outputs": []
    },
    {
      "metadata": {},
      "cell_type": "markdown",
      "source": "Are those who pay less than the average for a ticket less likely to survive? Mean fare for each pclass"
    },
    {
      "metadata": {
        "trusted": false
      },
      "cell_type": "code",
      "source": "class1 = tic[tic.pclass == 1]\nclass2 = tic[tic.pclass == 2]\nclass3 = tic[tic.pclass == 3]",
      "execution_count": 61,
      "outputs": []
    },
    {
      "metadata": {
        "trusted": false
      },
      "cell_type": "code",
      "source": "fare1 = class1.fare.mean()\nfare2 = class2.fare.mean()\nfare3 = class3.fare.mean()",
      "execution_count": 68,
      "outputs": []
    },
    {
      "metadata": {
        "trusted": false
      },
      "cell_type": "code",
      "source": "print(fare1, fare2, fare3)",
      "execution_count": 71,
      "outputs": [
        {
          "name": "stdout",
          "output_type": "stream",
          "text": "87.50899164086687 21.1791963898917 13.331086994755056\n"
        }
      ]
    },
    {
      "metadata": {},
      "cell_type": "markdown",
      "source": "#Create fare_avg column"
    },
    {
      "metadata": {
        "trusted": true
      },
      "cell_type": "code",
      "source": "tic.fare_avg = tic.pclass",
      "execution_count": null,
      "outputs": []
    },
    {
      "metadata": {
        "trusted": false
      },
      "cell_type": "code",
      "source": "tic.fare_avg = tic.fare_avg.astype(float)",
      "execution_count": 130,
      "outputs": []
    },
    {
      "metadata": {
        "trusted": false
      },
      "cell_type": "code",
      "source": "tic.fare_avg[tic.fare_avg == 1] = fare1\ntic.fare_avg[tic.fare_avg == 2] = fare2\ntic.fare_avg[tic.fare_avg == 3] = fare3",
      "execution_count": 141,
      "outputs": []
    },
    {
      "metadata": {
        "trusted": false
      },
      "cell_type": "code",
      "source": "tic.fare_avg.value_counts()",
      "execution_count": 144,
      "outputs": [
        {
          "data": {
            "text/plain": "13.331087    709\n87.508992    323\n21.179196    277\nName: pclass, dtype: int64"
          },
          "execution_count": 144,
          "metadata": {},
          "output_type": "execute_result"
        }
      ]
    },
    {
      "metadata": {},
      "cell_type": "markdown",
      "source": "Create fare-distance metric for titanic fare-distance = fare - mean(fare of pclass)"
    },
    {
      "metadata": {
        "trusted": false
      },
      "cell_type": "code",
      "source": "tic['fare_distance'] = tic.fare - tic.fare_avg",
      "execution_count": 136,
      "outputs": []
    },
    {
      "metadata": {},
      "cell_type": "markdown",
      "source": "Add family column"
    },
    {
      "metadata": {
        "trusted": false
      },
      "cell_type": "code",
      "source": "tic['family'] = np.nan",
      "execution_count": 97,
      "outputs": []
    }
  ],
  "metadata": {
    "kernelspec": {
      "name": "python36",
      "display_name": "Python 3.6",
      "language": "python"
    },
    "language_info": {
      "mimetype": "text/x-python",
      "nbconvert_exporter": "python",
      "name": "python",
      "pygments_lexer": "ipython3",
      "version": "3.6.3",
      "file_extension": ".py",
      "codemirror_mode": {
        "version": 3,
        "name": "ipython"
      }
    }
  },
  "nbformat": 4,
  "nbformat_minor": 2
}
